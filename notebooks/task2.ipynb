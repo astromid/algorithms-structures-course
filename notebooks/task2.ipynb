{
 "metadata": {
  "language_info": {
   "codemirror_mode": {
    "name": "ipython",
    "version": 3
   },
   "file_extension": ".py",
   "mimetype": "text/x-python",
   "name": "python",
   "nbconvert_exporter": "python",
   "pygments_lexer": "ipython3",
   "version": "3.8.5-final"
  },
  "orig_nbformat": 2,
  "kernelspec": {
   "name": "python3",
   "display_name": "Python 3"
  }
 },
 "nbformat": 4,
 "nbformat_minor": 2,
 "cells": [
  {
   "cell_type": "code",
   "execution_count": 1,
   "metadata": {},
   "outputs": [],
   "source": [
    "import random\n",
    "from time import perf_counter\n",
    "\n",
    "from algorithms_sc.sorts import gnome_sort, shaker_sort\n",
    "from algorithms_sc.sorts.utils import generate_stand\n",
    "from tqdm.auto import tqdm\n",
    "\n",
    "import numpy as np\n",
    "import matplotlib.pyplot as plt\n",
    "import seaborn as sns\n",
    "sns.set()"
   ]
  },
  {
   "source": [
    "# Задание"
   ],
   "cell_type": "markdown",
   "metadata": {}
  },
  {
   "source": [
    "Сравнить алгоритмы шейкерной и гномьей сортировки по времени в двух варинтах:\n",
    "- в зависимости от длины массива\n",
    "- в зависимости от степени отсортированности массива (при фиксированной длине $\\approx 10^4$)"
   ],
   "cell_type": "markdown",
   "metadata": {}
  },
  {
   "source": [
    "## 1. Зависимость от длины массива"
   ],
   "cell_type": "markdown",
   "metadata": {}
  },
  {
   "cell_type": "code",
   "execution_count": null,
   "metadata": {},
   "outputs": [],
   "source": [
    "ARR_LENGTHS = [2 ** i for i in range(3, )]"
   ]
  }
 ]
}